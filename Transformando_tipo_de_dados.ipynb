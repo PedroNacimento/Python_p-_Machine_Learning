{
  "nbformat": 4,
  "nbformat_minor": 0,
  "metadata": {
    "colab": {
      "provenance": [],
      "authorship_tag": "ABX9TyNLdT2y5kAdfasM3XwTKtAN",
      "include_colab_link": true
    },
    "kernelspec": {
      "name": "python3",
      "display_name": "Python 3"
    },
    "language_info": {
      "name": "python"
    }
  },
  "cells": [
    {
      "cell_type": "markdown",
      "metadata": {
        "id": "view-in-github",
        "colab_type": "text"
      },
      "source": [
        "<a href=\"https://colab.research.google.com/github/PedroNacimento/Python_p-_Machine_Learning/blob/main/Transformando_tipo_de_dados.ipynb\" target=\"_parent\"><img src=\"https://colab.research.google.com/assets/colab-badge.svg\" alt=\"Open In Colab\"/></a>"
      ]
    },
    {
      "cell_type": "markdown",
      "source": [
        "#Transformando tipo de dados (int , float)"
      ],
      "metadata": {
        "id": "xcT622a17IqV"
      }
    },
    {
      "cell_type": "markdown",
      "source": [
        " - ** Transformando elementos de uma lista e inteiros para float **"
      ],
      "metadata": {
        "id": "LL-Q8cakbLwu"
      }
    },
    {
      "cell_type": "code",
      "source": [
        "lista = [2 ,4 ,10 ,6]\n",
        "type(lista)\n",
        "\n",
        "\n"
      ],
      "metadata": {
        "colab": {
          "base_uri": "https://localhost:8080/"
        },
        "id": "pik2gojSYq2p",
        "outputId": "ac33ad41-1d72-4c61-8e1f-c32d60740e37"
      },
      "execution_count": 13,
      "outputs": [
        {
          "output_type": "execute_result",
          "data": {
            "text/plain": [
              "list"
            ]
          },
          "metadata": {},
          "execution_count": 13
        }
      ]
    },
    {
      "cell_type": "code",
      "source": [
        "nova_lista = []\n",
        "for i in lista:\n",
        "  nova_lista.append(float(i))\n",
        "print(nova_lista)"
      ],
      "metadata": {
        "colab": {
          "base_uri": "https://localhost:8080/"
        },
        "id": "c0pqfPLsaB8q",
        "outputId": "01f91571-bf0b-4ebf-c112-c6cfe2926e0d"
      },
      "execution_count": 12,
      "outputs": [
        {
          "output_type": "stream",
          "name": "stdout",
          "text": [
            "[2.0, 4.0, 10.0, 6.0]\n"
          ]
        }
      ]
    }
  ]
}