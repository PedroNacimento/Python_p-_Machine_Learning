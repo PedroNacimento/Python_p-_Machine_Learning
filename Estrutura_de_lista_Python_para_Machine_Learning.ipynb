{
  "nbformat": 4,
  "nbformat_minor": 0,
  "metadata": {
    "colab": {
      "provenance": [],
      "collapsed_sections": [],
      "authorship_tag": "ABX9TyODSDj6eKvb+vDaVVTlLHTA",
      "include_colab_link": true
    },
    "kernelspec": {
      "name": "python3",
      "display_name": "Python 3"
    },
    "language_info": {
      "name": "python"
    }
  },
  "cells": [
    {
      "cell_type": "markdown",
      "metadata": {
        "id": "view-in-github",
        "colab_type": "text"
      },
      "source": [
        "<a href=\"https://colab.research.google.com/github/PedroNacimento/Python_p-_Machine_Learning/blob/main/Estrutura_de_lista_Python_para_Machine_Learning.ipynb\" target=\"_parent\"><img src=\"https://colab.research.google.com/assets/colab-badge.svg\" alt=\"Open In Colab\"/></a>"
      ]
    },
    {
      "cell_type": "markdown",
      "source": [
        "#Criando Estruras em listas"
      ],
      "metadata": {
        "id": "T5xPMPWngTWH"
      }
    },
    {
      "cell_type": "markdown",
      "source": [
        "*Como sera que o python sabe que determinado bloco de codigo é uma lisat ?\n",
        " Sera que apenas nomeando uma variavel de lista*"
      ],
      "metadata": {
        "id": "KFg44y23gnbX"
      }
    },
    {
      "cell_type": "code",
      "source": [
        "lista = 10\n",
        "type()"
      ],
      "metadata": {
        "colab": {
          "base_uri": "https://localhost:8080/"
        },
        "id": "TM0NsCCigmoV",
        "outputId": "dc141836-ef91-4ad1-d393-9bb65da8c8b4"
      },
      "execution_count": null,
      "outputs": [
        {
          "output_type": "execute_result",
          "data": {
            "text/plain": [
              "int"
            ]
          },
          "metadata": {},
          "execution_count": 1
        }
      ]
    },
    {
      "cell_type": "markdown",
      "source": [
        "**Claro que não**!!!"
      ],
      "metadata": {
        "id": "ud-lQV8JcEPD"
      }
    },
    {
      "cell_type": "markdown",
      "source": [
        "Em python se cria uma lista atribuindo cochetes ao fim de uma variavel "
      ],
      "metadata": {
        "id": "hRhqxPGFie3t"
      }
    },
    {
      "cell_type": "code",
      "source": [
        "lista = [1 , 2 , 3]\n",
        "type(lista)"
      ],
      "metadata": {
        "colab": {
          "base_uri": "https://localhost:8080/"
        },
        "id": "7q7ImNXaiof_",
        "outputId": "e5e23696-96b5-482f-85a7-2f314c6f2df4"
      },
      "execution_count": null,
      "outputs": [
        {
          "output_type": "execute_result",
          "data": {
            "text/plain": [
              "list"
            ]
          },
          "metadata": {},
          "execution_count": 1
        }
      ]
    },
    {
      "cell_type": "code",
      "source": [
        "lista2 = [[1,2,3], [4,5,6],[7,8,9]]\n",
        "type(lista2)"
      ],
      "metadata": {
        "id": "X8C7Fj15EheY",
        "colab": {
          "base_uri": "https://localhost:8080/"
        },
        "outputId": "3c568576-751d-4af5-a15d-32ef868b3142"
      },
      "execution_count": null,
      "outputs": [
        {
          "output_type": "execute_result",
          "data": {
            "text/plain": [
              "list"
            ]
          },
          "metadata": {},
          "execution_count": 2
        }
      ]
    },
    {
      "cell_type": "markdown",
      "source": [
        "Para selecionar um elemento da lista de interesse , deve se passar a colocação daquele elemento no indice da lista "
      ],
      "metadata": {
        "id": "gJszgoYqhYIZ"
      }
    },
    {
      "cell_type": "code",
      "source": [
        "lista[0]"
      ],
      "metadata": {
        "colab": {
          "base_uri": "https://localhost:8080/"
        },
        "id": "vAruFI46h2h7",
        "outputId": "54905970-f71e-4b59-db6b-2cad668018a9"
      },
      "execution_count": null,
      "outputs": [
        {
          "output_type": "execute_result",
          "data": {
            "text/plain": [
              "1"
            ]
          },
          "metadata": {},
          "execution_count": 3
        }
      ]
    },
    {
      "cell_type": "markdown",
      "source": [
        "o indice 0 corresponde ao primeiro elemento da nosso primeira lista o elemento 1"
      ],
      "metadata": {
        "id": "LznKFtanh5o7"
      }
    },
    {
      "cell_type": "code",
      "source": [
        "lista2[0]"
      ],
      "metadata": {
        "colab": {
          "base_uri": "https://localhost:8080/"
        },
        "id": "9NdRSgEpjZBi",
        "outputId": "ba526be6-2f94-4348-d5b2-b6a3298c21a3"
      },
      "execution_count": null,
      "outputs": [
        {
          "output_type": "execute_result",
          "data": {
            "text/plain": [
              "[1, 2, 3]"
            ]
          },
          "metadata": {},
          "execution_count": 4
        }
      ]
    },
    {
      "cell_type": "markdown",
      "source": [
        "no caso da lista 2 os elementos são listas com  3 numeros cada , sendo o elemento de indice 0 o elemento [123]"
      ],
      "metadata": {
        "id": "NNKFDt1ujciE"
      }
    },
    {
      "cell_type": "markdown",
      "source": [
        "Há mas como eu faço para  selecionar um desses 3 composnentes dessas lisa que forma a lista 2 ? Assim jovem gafalhoto "
      ],
      "metadata": {
        "id": "_o664Or6kHIh"
      }
    },
    {
      "cell_type": "code",
      "source": [
        "lista2[2][2]"
      ],
      "metadata": {
        "colab": {
          "base_uri": "https://localhost:8080/"
        },
        "id": "stoR8hExkWTY",
        "outputId": "85345819-0b3f-496c-ae8a-98580855abb8"
      },
      "execution_count": null,
      "outputs": [
        {
          "output_type": "execute_result",
          "data": {
            "text/plain": [
              "9"
            ]
          },
          "metadata": {},
          "execution_count": 9
        }
      ]
    },
    {
      "cell_type": "markdown",
      "source": [
        "na listaa dois o 2 elemento é [7,8,9]\n",
        "e o segundo do segundo é o 9"
      ],
      "metadata": {
        "id": "esKFGEmZk4Cm"
      }
    },
    {
      "cell_type": "markdown",
      "source": [
        "#Funções dentro de listas "
      ],
      "metadata": {
        "id": "cNOtHoDfpElc"
      }
    },
    {
      "cell_type": "code",
      "source": [
        "import random # função radom\n",
        "cidade=[\"são paulo\" ,\"pernambuco\",\"ceara\",\"sao luis\" ]\n",
        "escolhida = random.choice(cidade)\n",
        "print(\"A cidade escolhida é :\",escolhida)"
      ],
      "metadata": {
        "colab": {
          "base_uri": "https://localhost:8080/"
        },
        "id": "Iv2M8kKXpJuO",
        "outputId": "ff386cd8-2d97-4760-f349-a3c278b145e1"
      },
      "execution_count": null,
      "outputs": [
        {
          "output_type": "stream",
          "name": "stdout",
          "text": [
            "A cidade escolhida é : sao luis\n"
          ]
        }
      ]
    },
    {
      "cell_type": "markdown",
      "source": [
        "#Adicionar itens a uma lista\n"
      ],
      "metadata": {
        "id": "U9krm2LGqQ9P"
      }
    },
    {
      "cell_type": "code",
      "source": [
        "a = [1,2,3]\n",
        "a.append(5)\n",
        "print(a)"
      ],
      "metadata": {
        "colab": {
          "base_uri": "https://localhost:8080/"
        },
        "id": "P-kJkRCWqWAD",
        "outputId": "7f1648cd-7d4e-451a-8c7f-c2750d92c6fb"
      },
      "execution_count": null,
      "outputs": [
        {
          "output_type": "stream",
          "name": "stdout",
          "text": [
            "[1, 2, 3, 5]\n"
          ]
        }
      ]
    }
  ]
}