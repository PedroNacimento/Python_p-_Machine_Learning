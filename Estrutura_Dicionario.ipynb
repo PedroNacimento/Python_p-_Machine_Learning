{
  "nbformat": 4,
  "nbformat_minor": 0,
  "metadata": {
    "colab": {
      "provenance": [],
      "authorship_tag": "ABX9TyNb8+y6LyJQzcsyWrnPNtC6",
      "include_colab_link": true
    },
    "kernelspec": {
      "name": "python3",
      "display_name": "Python 3"
    },
    "language_info": {
      "name": "python"
    }
  },
  "cells": [
    {
      "cell_type": "markdown",
      "metadata": {
        "id": "view-in-github",
        "colab_type": "text"
      },
      "source": [
        "<a href=\"https://colab.research.google.com/github/PedroNacimento/Python_p-_Machine_Learning/blob/main/Estrutura_Dicionario.ipynb\" target=\"_parent\"><img src=\"https://colab.research.google.com/assets/colab-badge.svg\" alt=\"Open In Colab\"/></a>"
      ]
    },
    {
      "cell_type": "markdown",
      "source": [
        "#Dicionario em python:\n",
        "É uma estrutura que se cinstitue do seu nome  sendo atribuido a dus chaves{chave:fechadura} que possue em seu interior um conteudo no formato de chave fechadura "
      ],
      "metadata": {
        "id": "oyscbD3AwtPM"
      }
    },
    {
      "cell_type": "code",
      "source": [
        "dicionario = {'Curso':'Python p/ in,',\n",
        "              'produtor':'didatica',\n",
        "              'preço':'gratuito',\n",
        "              'Nota':10\n",
        "              }\n"
      ],
      "metadata": {
        "id": "sbbqcjCoxauQ"
      },
      "execution_count": 5,
      "outputs": []
    },
    {
      "cell_type": "markdown",
      "source": [
        "#Realizar buscas no dicionario"
      ],
      "metadata": {
        "id": "5j4M1uMVxeoE"
      }
    },
    {
      "cell_type": "markdown",
      "source": [
        "Para realizar busca execultamos uma estrutura similar a de buscas em lista , no entando ao invés de colocarmos o indice dos elementos colocamos a palavrqa **chave **"
      ],
      "metadata": {
        "id": "04O2FbQlzMSw"
      }
    },
    {
      "cell_type": "code",
      "source": [
        "dicionario = {'Curso':'Python p/ in,',\n",
        "              'produtor':'didatica',\n",
        "              'preço':'gratuito',\n",
        "              'Nota':10\n",
        "              }\n",
        "dicionario['Curso']\n",
        "dicionario['preço']"
      ],
      "metadata": {
        "colab": {
          "base_uri": "https://localhost:8080/",
          "height": 35
        },
        "id": "QEvM56zvzrRO",
        "outputId": "421a2f43-2d21-4b96-c8b8-6c18f32634ba"
      },
      "execution_count": 9,
      "outputs": [
        {
          "output_type": "execute_result",
          "data": {
            "text/plain": [
              "'gratuito'"
            ],
            "application/vnd.google.colaboratory.intrinsic+json": {
              "type": "string"
            }
          },
          "metadata": {},
          "execution_count": 9
        }
      ]
    },
    {
      "cell_type": "markdown",
      "source": [
        "#atribuindo valores do dicionario a variaves"
      ],
      "metadata": {
        "id": "tf0YesTN0T2O"
      }
    },
    {
      "cell_type": "code",
      "source": [
        "dicionario = {'Curso':'Python p/ in,',\n",
        "              'produtor':'didatica',\n",
        "              'preço':'gratuito',\n",
        "              'nota':10\n",
        "              }\n",
        "a = dicionario['nota']\n",
        "print(a)"
      ],
      "metadata": {
        "colab": {
          "base_uri": "https://localhost:8080/"
        },
        "id": "Eyr36rjj0dWP",
        "outputId": "d67fd3ea-0901-451b-a5e0-eb8da0230131"
      },
      "execution_count": 14,
      "outputs": [
        {
          "output_type": "stream",
          "name": "stdout",
          "text": [
            "10\n"
          ]
        }
      ]
    },
    {
      "cell_type": "code",
      "source": [
        "dicionario = {'Curso':'Python p/ in,',\n",
        "              'produtor':'didatica',\n",
        "              'preço':'gratuito',\n",
        "              'Nota':10\n",
        "              }\n",
        "\n",
        "a = dicionario['preço']\n",
        "print(a)"
      ],
      "metadata": {
        "colab": {
          "base_uri": "https://localhost:8080/"
        },
        "id": "zowIhSgC0ka0",
        "outputId": "33c92710-f191-46d9-95b3-36ab38b6d460"
      },
      "execution_count": 16,
      "outputs": [
        {
          "output_type": "stream",
          "name": "stdout",
          "text": [
            "gratuito\n"
          ]
        }
      ]
    },
    {
      "cell_type": "markdown",
      "source": [
        "\n",
        "#adicionar novos valores a variavel "
      ],
      "metadata": {
        "id": "iCSFyLTU0TfB"
      }
    },
    {
      "cell_type": "code",
      "source": [
        "dicionario['pre-requisito']='python p/ in.'\n",
        "print(dicionario)"
      ],
      "metadata": {
        "colab": {
          "base_uri": "https://localhost:8080/"
        },
        "id": "2WHjl_Fv1baZ",
        "outputId": "9e41896a-822f-45e4-8cd1-450d6e39711c"
      },
      "execution_count": 18,
      "outputs": [
        {
          "output_type": "stream",
          "name": "stdout",
          "text": [
            "{'Curso': 'Python p/ in,', 'produtor': 'didatica', 'preço': 'gratuito', 'Nota': 10, 'pre-requisito': 'python p/ in.'}\n"
          ]
        }
      ]
    },
    {
      "cell_type": "markdown",
      "source": [
        "Como saber todas as chaves do dicionario"
      ],
      "metadata": {
        "id": "UX-E6l8213B8"
      }
    },
    {
      "cell_type": "markdown",
      "source": [
        "dicionario = {'Curso':'Python p/ in,',\n",
        "              'produtor':'didatica',\n",
        "              'preço':'gratuito',\n",
        "              'Nota':10\n",
        "              }\n",
        "              "
      ],
      "metadata": {
        "id": "lMv1k9882A_E"
      }
    },
    {
      "cell_type": "code",
      "source": [
        "dicionario = {'Curso':'Python p/ in,',\n",
        "              'produtor':'didatica',\n",
        "              'preço':'gratuito',\n",
        "              'Nota':10\n",
        "              }\n",
        "\n",
        "dicionario.keys()"
      ],
      "metadata": {
        "colab": {
          "base_uri": "https://localhost:8080/"
        },
        "id": "iz9NsdvH2Exv",
        "outputId": "af9b21ff-f30e-4471-8fc8-d70266bb6d52"
      },
      "execution_count": 19,
      "outputs": [
        {
          "output_type": "execute_result",
          "data": {
            "text/plain": [
              "dict_keys(['Curso', 'produtor', 'preço', 'Nota'])"
            ]
          },
          "metadata": {},
          "execution_count": 19
        }
      ]
    },
    {
      "cell_type": "markdown",
      "source": [
        "Comom saber todos os valores dos dicionarios \n"
      ],
      "metadata": {
        "id": "Zx8yeJ1V2W30"
      }
    },
    {
      "cell_type": "code",
      "source": [
        "dicionario = {'Curso':'Python p/ in,',\n",
        "              'produtor':'didatica',\n",
        "              'preço':'gratuito',\n",
        "              'Nota':10\n",
        "              }\n",
        "##############################\n",
        "dicionario.values()"
      ],
      "metadata": {
        "colab": {
          "base_uri": "https://localhost:8080/"
        },
        "id": "FdgGrzVW2dGm",
        "outputId": "bef60409-b517-44ca-8ad1-90873e5abc8c"
      },
      "execution_count": 23,
      "outputs": [
        {
          "output_type": "execute_result",
          "data": {
            "text/plain": [
              "dict_values(['Python p/ in,', 'didatica', 'gratuito', 10])"
            ]
          },
          "metadata": {},
          "execution_count": 23
        }
      ]
    },
    {
      "cell_type": "markdown",
      "source": [
        "como limpar dicionario"
      ],
      "metadata": {
        "id": "w1_vn1Oz27wn"
      }
    },
    {
      "cell_type": "code",
      "source": [
        "dicionario = {'Curso':'Python p/ in,',\n",
        "              'produtor':'didatica',\n",
        "              'preço':'gratuito',\n",
        "              'Nota':10\n",
        "              }\n",
        "dicionario.clear()\n",
        "print(dicionario)"
      ],
      "metadata": {
        "colab": {
          "base_uri": "https://localhost:8080/"
        },
        "id": "1secu90v2f0E",
        "outputId": "5c4fe46b-a625-4ab2-f183-f0514ed224ea"
      },
      "execution_count": 26,
      "outputs": [
        {
          "output_type": "stream",
          "name": "stdout",
          "text": [
            "{}\n"
          ]
        }
      ]
    }
  ]
}